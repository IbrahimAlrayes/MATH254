{
 "cells": [
  {
   "cell_type": "code",
   "execution_count": 1,
   "metadata": {},
   "outputs": [],
   "source": [
    "import numpy as np"
   ]
  },
  {
   "cell_type": "code",
   "execution_count": 2,
   "metadata": {},
   "outputs": [
    {
     "name": "stdout",
     "output_type": "stream",
     "text": [
      "Iteration-1, c1 = 4.25 and f(x2) = -0.9375\n",
      "Iteration-2, c2 = 4.375 and f(x2) = 0.140625\n",
      "\n",
      "Root is : 4.375\n",
      "Absolute Error is 0.016101056459326024\n",
      "Error Bound is 0.125\n"
     ]
    }
   ],
   "source": [
    "# Q1 \n",
    "def f(x):\n",
    "    return x**2-19\n",
    "def bisection(x0,x1):\n",
    "    counter = 1\n",
    "    while counter <= 2:\n",
    "        x2 = (x0 + x1)/2\n",
    "        print('Iteration-{}, c{} = {} and f(x2) = {}'.format(counter,counter, x2, f(x2)))\n",
    "        if f(x0) * f(x2) < 0:\n",
    "            x1 = x2\n",
    "        else:\n",
    "            x0 = x2\n",
    "        counter = counter +1\n",
    "    abs_error = np.abs(np.sqrt(19) - x2)\n",
    "    error_bound = ((4.5 - 4) / 2 **2)\n",
    "    print('\\nRoot is : {}\\nAbsolute Error is {}\\nError Bound is {}'.format(x2, abs_error, error_bound))\n",
    "\n",
    "bisection(4,4.5)"
   ]
  },
  {
   "cell_type": "code",
   "execution_count": 20,
   "metadata": {},
   "outputs": [
    {
     "name": "stdout",
     "output_type": "stream",
     "text": [
      "Expression : -k1*x + k2 + x**2 \n",
      "Derivative of expression with respect to x : Derivative(-k1*x + k2 + x**2, x)\n",
      "Value of the derivative : -k1 + 2*x \n",
      "Simplify of Newton Method : (-k2 + x**2)/(-k1 + 2*x) \n",
      "First approximation 4.0625\n",
      "Second approximation 4.000762195121951\n"
     ]
    }
   ],
   "source": [
    "from sympy import * \n",
    "# Q2 \n",
    "x, k1, k2 = symbols('x k1 k2')\n",
    "expr = x**2 -k1*x +k2\n",
    "print(\"Expression : {} \".format(expr))\n",
    "   \n",
    "# Finding the dirivative\n",
    "expr_diff = Derivative(expr, x)  \n",
    "y = x - (expr/expr_diff)\n",
    "# Simplifying Newton expression\n",
    "y = simplify(y)\n",
    "y = simplify(y) # Again\n",
    "f = lambdify([x,k1,k2],y)\n",
    "print(\"Derivative of expression with respect to x : {}\".format(expr_diff))  \n",
    "print(\"Value of the derivative : {} \".format(expr_diff.doit()))\n",
    "print(\"Simplify of Newton Method : {} \".format(y))\n",
    "print('First approximation {}'.format(f(3.5,3,-4)))\n",
    "print('Second approximation {}'.format(f(4.0625,3,-4)))"
   ]
  },
  {
   "cell_type": "code",
   "execution_count": 7,
   "metadata": {},
   "outputs": [
    {
     "name": "stdout",
     "output_type": "stream",
     "text": [
      "First approximation is 1.9473684210526316\n"
     ]
    }
   ],
   "source": [
    "# Q3 \n",
    "def f(x):\n",
    "    return x**3 - 5*x**2 +8*x -4\n",
    "def f_first_dir(x):\n",
    "    return 3*x**2 -10*x +8\n",
    "def f_second_dir(x):\n",
    "    return 6*x -10\n",
    "x0 = 1.75\n",
    "x1 = x0 - (f(x0) * f_first_dir(x0)) / ((f_first_dir(x0))**2 - (f(x0) * f_second_dir(x0)))\n",
    "print('First approximation of Second Modified Newton is {}'.format(x1))"
   ]
  }
 ],
 "metadata": {
  "kernelspec": {
   "display_name": "Python 3.10.1 64-bit",
   "language": "python",
   "name": "python3"
  },
  "language_info": {
   "codemirror_mode": {
    "name": "ipython",
    "version": 3
   },
   "file_extension": ".py",
   "mimetype": "text/x-python",
   "name": "python",
   "nbconvert_exporter": "python",
   "pygments_lexer": "ipython3",
   "version": "3.10.1"
  },
  "orig_nbformat": 4,
  "vscode": {
   "interpreter": {
    "hash": "dbcefe7cc1b5c8a0efe7bce2a8e6d9d317c4b15f360801b153528886b54c3f98"
   }
  }
 },
 "nbformat": 4,
 "nbformat_minor": 2
}
